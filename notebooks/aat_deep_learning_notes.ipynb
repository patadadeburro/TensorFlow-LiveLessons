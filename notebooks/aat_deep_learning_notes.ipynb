{
 "cells": [
  {
   "cell_type": "markdown",
   "metadata": {},
   "source": [
    "\n",
    "| python| deep learning | trensor flow | keras\n",
    "| - | - | - |\n",
    "| ![Python Logo](http://spark-mooc.github.io/web-assets/images/python-logo-master-v3-TM-flattened_small.png) | ![TF_Logo](https://upload.wikimedia.org/wikipedia/commons/a/a4/TensorFlowLogo.png) | ![Keras Logo](https://devblogs.nvidia.com/parallelforall/wp-content/uploads/2017/08/Keras_Logo_358x230-179x115.png)\n",
    "# Deep Learning notes\n",
    "\n",
    "## Arturo Alatriste Trujillo"
   ]
  },
  {
   "cell_type": "markdown",
   "metadata": {},
   "source": [
    "<img src=\"img/essential_theory.png\" height=\"1200\" width=\"1200\" />"
   ]
  },
  {
   "cell_type": "markdown",
   "metadata": {},
   "source": [
    "<img src=\"img/first_tensorflow_neuron.png\" height=\"700\" width=\"700\" />"
   ]
  },
  {
   "cell_type": "markdown",
   "metadata": {},
   "source": [
    "<img src=\"img/libraries_comparison.png\" height=\"900\" width=\"900\" />"
   ]
  },
  {
   "cell_type": "markdown",
   "metadata": {
    "collapsed": true
   },
   "source": [
    "| NEURONS |\n",
    "|-|\n",
    "| percentron |\n",
    "| sigmoid |\n",
    "| tanh |\n",
    "| relu |\n"
   ]
  },
  {
   "cell_type": "markdown",
   "metadata": {
    "collapsed": true
   },
   "source": [
    "| COST FUNCTIONS |\n",
    "|-|\n",
    "| quadratic |\n",
    "| cross_entropy |\n",
    "| categorical_crossentropy |"
   ]
  },
  {
   "cell_type": "markdown",
   "metadata": {},
   "source": [
    "| GRADIENT DESCENT |\n",
    "|-|\n",
    "| learning rate |\n",
    "|  mini batch size |\n",
    "|  second order (Adam) |\n",
    "|  |"
   ]
  },
  {
   "cell_type": "markdown",
   "metadata": {},
   "source": [
    "| REDUCE OVERFITTING |\n",
    "|-|\n",
    "| L1-L2 reg |\n",
    "| dropout |\n",
    "| expand data |\n",
    "| |\n"
   ]
  },
  {
   "cell_type": "markdown",
   "metadata": {
    "collapsed": true
   },
   "source": [
    "| INITIALIZATIONS |\n",
    "|-|\n",
    "| Glorot uniform |\n",
    "| Glorot normal |\n",
    "Glorot also know as Xavier"
   ]
  },
  {
   "cell_type": "markdown",
   "metadata": {},
   "source": [
    "| LAYERS |\n",
    "|-|\n",
    "| dense | fully connected layer |\n",
    "| softmax | usually used as last layer |\n",
    "| max-pooling | reduce dimensionality and help overfitting. Can be used after a convolutional layer |\n",
    "| flaten | if we get a table as input, for example a picture, we flaten to convert to an array of one dimention.\n",
    "| convolutional |\n"
   ]
  },
  {
   "cell_type": "markdown",
   "metadata": {},
   "source": [
    "#### Improvng performac and Hyperparameters"
   ]
  },
  {
   "cell_type": "markdown",
   "metadata": {},
   "source": [
    "***\n",
    "1. Get Above Chance Learning\n",
    "2. Layers \n",
    "3. Initializaton\n",
    "4. Cost\n",
    "5. Avoid Overfitting\n",
    "6. Learning Rate\n",
    "7. Epochs\n",
    "8. Regularization lambda\n",
    "9. Batch size\n",
    "10. Automation \n",
    "   * Josua Benyo (Universit of Montreal) use the search grid.\n",
    "   * sample values instead of looping over fixed values \n",
    "   * github/JasperSnoek/sprmeant\n"
   ]
  },
  {
   "cell_type": "markdown",
   "metadata": {},
   "source": [
    "### define your ouwn project"
   ]
  },
  {
   "cell_type": "markdown",
   "metadata": {},
   "source": [
    "1. Define Task\n",
    "2. Define Data Set\n",
    "3. Define Metric\n",
    "4. Split Data\n",
    " * trainng \n",
    " * validation\n",
    " * test\n",
    "5. Baseline\n",
    "6. Implement Existing\n",
    "7. Improve\n",
    "\n",
    "\n",
    " * http://neuralnetworksanddeeplearning.com/\n",
    " * http://www.deeplearningbook.org/\n",
    " * Probability & Statistics\n",
    " * Linear Algebra\n",
    " \n",
    " \n",
    " * Calculus\n",
    "   * gradient descent\n",
    "   * optimizing learning\n",
    "  \n",
    " * Machine Learning\n",
    " * Computer Science\n",
    "  \n",
    "<p> &#9634;</p>  "
   ]
  },
  {
   "cell_type": "markdown",
   "metadata": {},
   "source": [
    "## Lesson 4\n",
    "* first_tensorflow_graphs.ipynb\n",
    "* first_tensorflow_neurons.ipynb"
   ]
  },
  {
   "cell_type": "markdown",
   "metadata": {},
   "source": [
    "### Important Deep Learning Networks"
   ]
  },
  {
   "cell_type": "markdown",
   "metadata": {
    "collapsed": true
   },
   "source": [
    "| ANN | desc | data source | training samples | test samples | image dimension | \n",
    "| --- | ------------- | ------------| ---------------- | ------------ | --------------- | \n",
    "| AlexNet |  a deeper and much wider version of the LeNet and won by a large margin the difficult ImageNet competition | imageNet | training samples | test samples | image dimension | \n",
    "| googleLeNet | se sequence of 3 layers: convolution, pooling, non-linearity | imageNet | training samples | test samples | image dimension | \n",
    "| Inception-V3 | a child of googleLeNet | imageNet | training samples | test samples | image dimension | \n",
    "| VGG | from Oxford were the first to use much smaller 3×3 filters in each convolutional layers and also combined them as a sequence of convolutions. | imageNet | training samples | test samples | image dimension | \n",
    "\n",
    "\n",
    "\n"
   ]
  },
  {
   "cell_type": "markdown",
   "metadata": {
    "collapsed": true
   },
   "source": [
    "![comparison](https://cdn-images-1.medium.com/max/1600/1*kBpEOy4fzLiFxRLjpxAX6A.png)"
   ]
  },
  {
   "cell_type": "markdown",
   "metadata": {},
   "source": [
    "## References"
   ]
  },
  {
   "cell_type": "markdown",
   "metadata": {},
   "source": [
    "Keras\n",
    "* https://keras.io/\n",
    "\n",
    "Tensor Flow\n",
    "* http://tensorflow.org\n",
    "* http://playground.tensorflow.org\n",
    "\n",
    "\n",
    "Books\n",
    "* http://neuralnetworksanddeeplearning.com/\n",
    "* http://www.deeplearningbook.org/\n",
    "\n",
    "Convolutional Neural Networks\n",
    "* https://en.wikipedia.org/wiki/Convolutional_neural_network\n",
    "* http://deeplearning.net/tutorial/lenet.html\n",
    "* http://cs231n.github.io/convolutional-networks/\n",
    "* http://ufldl.stanford.edu/tutorial/supervised/ConvolutionalNeuralNetwork/\n",
    "\n",
    "#### cross entropy\n",
    "* https://www.quora.com/Whats-an-intuitive-way-to-think-of-cross-entropy\n",
    "\n",
    "#### databricks deep learning tensorflow\n",
    "* https://docs.databricks.com/applications/deep-learning/index.html\n",
    "* https://docs.databricks.com/applications/deep-learning/tensorflow.html\n",
    "* https://databricks.com/blog/2016/01/25/deep-learning-with-apache-spark-and-tensorflow.html\n",
    "* http://go.databricks.com/hubfs/notebooks/TensorFlow/Distributed_processing_of_images_using_TensorFlow.html\n",
    "\n",
    "#### Datasets\n",
    "\n",
    "Irish Flowers ( small and easy. 4 categories, 4 features, 50 samples)\n",
    "* https://en.wikipedia.org/wiki/Iris_flower_data_set\n",
    "* http://archive.ics.uci.edu/ml/datasets/Iris\n",
    "\n",
    "\n",
    "CIFAR ( 10 and 100 categories )\n",
    "* https://www.cs.toronto.edu/~kriz/cifar.html\n",
    "\n",
    "MNIST digits\n",
    "* http://yann.lecun.com/exdb/mnist/\n",
    "\n",
    "Oxford Flowers (more complex than MNIST)\n",
    "* http://www.robots.ox.ac.uk/~vgg/data/flowers/\n",
    "\n",
    "\n",
    "Imagenet\n",
    "* http://www.image-net.org/\n",
    "\n",
    "\n",
    "Jon Kron Resources (open datasets)\n",
    "* https://www.jonkrohn.com/resources/\n",
    "\n",
    "\n",
    "#### Deep Learning Architectures\n",
    "* http://slazebni.cs.illinois.edu/spring17/lec01_cnn_architectures.pdf\n",
    "\n",
    "#### Initializations\n",
    "* https://prateekvjoshi.com/2016/03/29/understanding-xavier-initialization-in-deep-neural-networks/\n",
    "* https://www.quora.com/What-is-an-intuitive-explanation-of-the-Xavier-Initialization-for-Deep-Neural-Networks\n",
    "\n",
    "#### Notebooks\n",
    "Jon Krohn\n",
    "* https://github.com/the-deep-learners/TensorFlow-LiveLessons\n",
    "\n",
    "Mike Williams\n",
    "* https://github.com/wxs/keras-mnist-tutorial\n",
    "* https://github.com/wxs/keras-mnist-tutorial/blob/master/MNIST%20in%20Keras.ipynb\n",
    "\n",
    "#### Max Pooling\n",
    "* https://www.quora.com/What-is-max-pooling-in-convolutional-neural-networks"
   ]
  },
  {
   "cell_type": "code",
   "execution_count": null,
   "metadata": {
    "collapsed": true
   },
   "outputs": [],
   "source": []
  }
 ],
 "metadata": {
  "kernelspec": {
   "display_name": "Python 3",
   "language": "python",
   "name": "python3"
  },
  "language_info": {
   "codemirror_mode": {
    "name": "ipython",
    "version": 3
   },
   "file_extension": ".py",
   "mimetype": "text/x-python",
   "name": "python",
   "nbconvert_exporter": "python",
   "pygments_lexer": "ipython3",
   "version": "3.6.1"
  }
 },
 "nbformat": 4,
 "nbformat_minor": 2
}
